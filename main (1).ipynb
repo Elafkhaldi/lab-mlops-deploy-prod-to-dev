{
 "cells": [
  {
   "cell_type": "markdown",
   "metadata": {},
   "source": [
    "# LAB | MLOps Deployment from PROD to DEV"
   ]
  },
  {
   "cell_type": "markdown",
   "metadata": {
    "vscode": {
     "languageId": "plaintext"
    }
   },
   "source": [
    "\n",
    "## Objective\n",
    "In this exercise, you will work in pairs to simulate the process of deploying code from a development environment (DEV) to a production environment (PRD). One student will act as the developer pushing code, while the other will be the gatekeeper ensuring the code runs correctly.\n",
    "\n",
    "## Instructions\n",
    "\n",
    "### Step 1: Form Pairs DONE \n",
    "- Split into pairs \n",
    "\n",
    "### Step 2: Developer Role DONE \n",
    "1. **Push Code to Repository** DONE \n",
    "   - Create a new project or use an existing one   \n",
    "   - Copy the code to a folder (which will be a git repo in a few minutes) \n",
    "   - Create a venv (see previous class in case you missed something)   \n",
    "   - Install all the necessary packages    \n",
    "   - Create the requirements.txt file    \n",
    "\n",
    "   - Initialize a git repository in your project folder:\n",
    "     ```sh\n",
    "     git init   DONE\n",
    "     ```\n",
    "   - Add your project files to the repository - **do not add the venv folder to git**:   \n",
    "     ```sh\n",
    "     git add [each_file]   \n",
    "     ```\n",
    "\n",
    "   - Commit your changes:    \n",
    "     ```sh\n",
    "     git commit -m \"Initial commit\"   \n",
    "     ```\n",
    "   - Push your project to a remote git repository (GitHub, GitLab, etc.):   \n",
    "     ```sh\n",
    "     git remote add origin <remote-repo-url>  \n",
    "     git push -u origin main  \n",
    "     ```\n",
    "\n",
    "2. **Create a Pull Request** DONE   \n",
    "   - Go to your remote repository and create a pull request (PR).  \n",
    "\n",
    "### Step 3: Gatekeeper Role  DONE\n",
    "1. **Review and Pull Code**\n",
    "   - Review the pull request created by your partner.   \n",
    "   - If everything looks good, merge the pull request.   \n",
    "   - Pull the latest changes from the remote repository:  \n",
    "     ```sh\n",
    "     git pull origin main\n",
    "     ```\n",
    "\n",
    "2. **Setup Environment** DONE\n",
    "   - Navigate to the project directory. DONE\n",
    "   - Create an empty venv DONE \n",
    "   - Install the required dependencies listed in `requirements.txt`:\n",
    "     ```sh DONE \n",
    "     pip install -r requirements.txt\n",
    "     ```\n",
    "\n",
    "3. **Run the Project** DONE \n",
    "   - Ensure the project runs without errors. DONE\n",
    "   - Provide feedback to the developer if there are any issues. DONE \n",
    "\n",
    "### Step 4: Swap Roles and Repeat   DONE \n",
    "- Swap roles and repeat the exercise, so each student gets to be both the developer and the gatekeeper.  DONE\n",
    "  - Bonus: to simulate reality, try to do this again outside a video call (via Slack messages for example)   DONE \n",
    "\n",
    "### Notes DONE \n",
    "- Ensure clear communication between partners during the process.  DONE\n",
    "- Make use of version control best practices.  DONE \n",
    "- Document any issues encountered and how they were resolved. DONE \n",
    "\n",
    "## Deliverables DONE\n",
    "- Each pair should have a functioning project that has been successfully reviewed, pulled, and run by the gatekeeper.\n",
    "- A brief report on the process, any challenges faced, and how they were overcome.\n",
    "\n",
    "Good luck and happy coding!\n",
    "\n",
    "MY PR : https://github.com/Elafkhaldi/Deployment-from-PROD-to-DEV/pull/3\n",
    " MY REPO : https://github.com/Elafkhaldi/Deployment-from-PROD-to-DEV\n",
    "\n",
    "\n"
   ]
  }
 ],
 "metadata": {
  "kernelspec": {
   "display_name": "venv_ironhack",
   "language": "python",
   "name": "python3"
  },
  "language_info": {
   "codemirror_mode": {
    "name": "ipython",
    "version": 3
   },
   "file_extension": ".py",
   "mimetype": "text/x-python",
   "name": "python",
   "nbconvert_exporter": "python",
   "pygments_lexer": "ipython3",
   "version": "3.11.9"
  }
 },
 "nbformat": 4,
 "nbformat_minor": 2
}
